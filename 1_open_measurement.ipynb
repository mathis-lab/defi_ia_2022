{
 "cells": [
  {
   "cell_type": "markdown",
   "metadata": {},
   "source": [
    "# Open database\n",
    "\n",
    "We open and merge all the files provided into one database."
   ]
  },
  {
   "cell_type": "code",
   "execution_count": 2,
   "metadata": {},
   "outputs": [],
   "source": [
    "import numpy as np\n",
    "import pandas as pd\n",
    "import missingno as msno\n",
    "from scipy.interpolate import griddata\n",
    "import multiprocess\n",
    "from functools import partial\n",
    "import datetime as dt\n",
    "\n",
    "import os\n",
    "os.chdir(\"F:/Defi_IA/data\")\n",
    "\n",
    "import warnings\n",
    "warnings.filterwarnings('ignore')\n",
    "\n",
    "from pyproj import Proj, transform\n",
    "inProj = Proj(init='epsg:4326')\n",
    "outProj = Proj(init='epsg:2154')"
   ]
  },
  {
   "cell_type": "code",
   "execution_count": 3,
   "metadata": {},
   "outputs": [
    {
     "data": {
      "text/plain": [
       "<AxesSubplot:>"
      ]
     },
     "execution_count": 3,
     "metadata": {},
     "output_type": "execute_result"
    },
    {
     "data": {
      "image/png": "[encoded data removed]",
      "text/plain": [
       "<Figure size 432x288 with 1 Axes>"
      ]
     },
     "metadata": {
      "needs_background": "light"
     },
     "output_type": "display_data"
    }
   ],
   "source": [
    "stations = pd.read_csv(\n",
    "    \"Other/stations_coordinates.csv\",\n",
    "    dtype = {\"number_sta\": int}         \n",
    ").rename(\n",
    "    columns={\"number_sta\": \"station\", \"lat\": \"latitude\", \"lon\": \"longitude\", \"height_sta\": \"height\"}\n",
    ")\n",
    "stations['coord_x'], stations['coord_y'] = transform(inProj, outProj, stations.longitude.to_numpy(), stations.latitude.to_numpy())\n",
    "\n",
    "import geopandas as gpd\n",
    "gdf_stations = gpd.GeoDataFrame(stations, crs=2154, geometry=gpd.points_from_xy(stations.coord_x, stations.coord_y, crs=2154))\n",
    "gdf_stations.plot()"
   ]
  },
  {
   "cell_type": "markdown",
   "metadata": {},
   "source": [
    "### Index Building"
   ]
  },
  {
   "cell_type": "code",
   "execution_count": 4,
   "metadata": {},
   "outputs": [
    {
     "name": "stdout",
     "output_type": "stream",
     "text": [
      "(8525400, 6)\n"
     ]
    },
    {
     "data": {
      "text/html": [
       "<div>\n",
       "<style scoped>\n",
       "    .dataframe tbody tr th:only-of-type {\n",
       "        vertical-align: middle;\n",
       "    }\n",
       "\n",
       "    .dataframe tbody tr th {\n",
       "        vertical-align: top;\n",
       "    }\n",
       "\n",
       "    .dataframe thead th {\n",
       "        text-align: right;\n",
       "    }\n",
       "</style>\n",
       "<table border=\"1\" class=\"dataframe\">\n",
       "  <thead>\n",
       "    <tr style=\"text-align: right;\">\n",
       "      <th></th>\n",
       "      <th>station</th>\n",
       "      <th>test</th>\n",
       "      <th>day</th>\n",
       "      <th>hour</th>\n",
       "      <th>day_index</th>\n",
       "      <th>month</th>\n",
       "    </tr>\n",
       "  </thead>\n",
       "  <tbody>\n",
       "    <tr>\n",
       "      <th>0</th>\n",
       "      <td>14047002</td>\n",
       "      <td>False</td>\n",
       "      <td>0</td>\n",
       "      <td>0</td>\n",
       "      <td>0</td>\n",
       "      <td>1</td>\n",
       "    </tr>\n",
       "    <tr>\n",
       "      <th>1</th>\n",
       "      <td>14047002</td>\n",
       "      <td>False</td>\n",
       "      <td>0</td>\n",
       "      <td>1</td>\n",
       "      <td>0</td>\n",
       "      <td>1</td>\n",
       "    </tr>\n",
       "    <tr>\n",
       "      <th>2</th>\n",
       "      <td>14047002</td>\n",
       "      <td>False</td>\n",
       "      <td>0</td>\n",
       "      <td>2</td>\n",
       "      <td>0</td>\n",
       "      <td>1</td>\n",
       "    </tr>\n",
       "    <tr>\n",
       "      <th>3</th>\n",
       "      <td>14047002</td>\n",
       "      <td>False</td>\n",
       "      <td>0</td>\n",
       "      <td>3</td>\n",
       "      <td>0</td>\n",
       "      <td>1</td>\n",
       "    </tr>\n",
       "    <tr>\n",
       "      <th>4</th>\n",
       "      <td>14047002</td>\n",
       "      <td>False</td>\n",
       "      <td>0</td>\n",
       "      <td>4</td>\n",
       "      <td>0</td>\n",
       "      <td>1</td>\n",
       "    </tr>\n",
       "  </tbody>\n",
       "</table>\n",
       "</div>"
      ],
      "text/plain": [
       "    station   test  day  hour  day_index  month\n",
       "0  14047002  False    0     0          0      1\n",
       "1  14047002  False    0     1          0      1\n",
       "2  14047002  False    0     2          0      1\n",
       "3  14047002  False    0     3          0      1\n",
       "4  14047002  False    0     4          0      1"
      ]
     },
     "execution_count": 4,
     "metadata": {},
     "output_type": "execute_result"
    }
   ],
   "source": [
    "# Index for features and predictions\n",
    "test_features_index = pd.read_csv(\"Test/X_station_test.csv\")[['Id']]\n",
    "test_features_index[\"station\"] = test_features_index[\"Id\"].str.split(\"_\").str[0].astype(int)\n",
    "test_features_index[\"day_index\"] = test_features_index[\"Id\"].str.split(\"_\").str[1].astype(int)\n",
    "\n",
    "df_day_index = pd.concat([\n",
    "    pd.DataFrame({\n",
    "        'day_index':list(range(2*365)),\n",
    "        'test':False,\n",
    "        'day':list(range(2*365))}),\n",
    "    pd.DataFrame({\n",
    "        'day_index':test_features_index[test_features_index.station==56137001].day_index.unique(), # Ne marche pas à creuser...\n",
    "        'test':True,\n",
    "        'day':list(range(363))}),\n",
    "])\n",
    "\n",
    "first_date = np.datetime64(\"2016-01-01T00:00\")\n",
    "df_date_index = pd.DataFrame({'date': [first_date + pd.Timedelta(days=i) for i in range(730)]})\n",
    "df_date_index['day_index'] = range(730)\n",
    "df_date_index['month'] = df_date_index.date.dt.month\n",
    "df_date_index.drop(['date'], axis=1, inplace=True)\n",
    "\n",
    "df_id_month_test = pd.read_csv(\"Test/X_station_test.csv\").assign(day_index=lambda x: x.Id.str.split(\"_\").str[1].astype(int))[['day_index', 'month']].drop_duplicates().reset_index(drop=True)\n",
    "df_date_index = pd.concat([df_date_index.assign(test=False), df_id_month_test.assign(test=True)])\n",
    "\n",
    "df_day_index = pd.merge(df_day_index, df_date_index, on=['test', 'day_index'])\n",
    "df_day_index.to_csv(\"Dataset/Test/index_day.csv\", index=False)\n",
    "\n",
    "df_full_index_day = pd.merge(stations[['station']], df_day_index, how=\"cross\")\n",
    "df_full_index_day.sort_values(['station', 'test', 'day'], inplace=True)\n",
    "df_full_index_day = df_full_index_day[['station', 'test', 'day', 'day_index', 'month']]\n",
    "\n",
    "df_full_index = pd.merge(df_full_index_day, pd.DataFrame({'hour': range(24)}), how='cross')\n",
    "df_full_index.sort_values(['station', 'test', 'day', 'hour'], inplace=True)\n",
    "df_full_index = df_full_index[['station', 'test', 'day', 'hour', 'day_index', 'month']]\n",
    "\n",
    "print(df_full_index.shape)\n",
    "df_full_index.head()"
   ]
  },
  {
   "cell_type": "markdown",
   "metadata": {},
   "source": [
    "Save Index"
   ]
  },
  {
   "cell_type": "code",
   "execution_count": 32,
   "metadata": {},
   "outputs": [],
   "source": [
    "df_full_index_day.to_csv(\"Dataset/Full_index_day.csv\", index=False)\n",
    "df_full_index.to_csv(\"Dataset/Full_index.csv\", index=False)"
   ]
  },
  {
   "cell_type": "markdown",
   "metadata": {},
   "source": [
    "### Load Y value:"
   ]
  },
  {
   "cell_type": "code",
   "execution_count": 5,
   "metadata": {},
   "outputs": [],
   "source": [
    "#Train\n",
    "#Ground\n",
    "train_ground = pd.read_csv(\n",
    "    \"Train/Y_train.csv\", \n",
    "    parse_dates=['date'], \n",
    "    infer_datetime_format=True,\n",
    "    dtype = {\"number_sta\": int, \"Ground_truth\": float},\n",
    ").rename(columns = {\"Ground_truth\": \"y\", \"Id\": \"id\"})[['id', 'y']]\n",
    "\n",
    "#Observation\n",
    "train_observation = pd.read_csv(\n",
    "    \"Train/Baselines/Baseline_observation_train.csv\",\n",
    "    dtype = {\"Prediction\": float}\n",
    ").assign(test=True).rename(columns = {\"Prediction\": \"Observation\", \"Id\": \"id\"})[['id', 'Observation']]\n",
    "\n",
    "#Forecast\n",
    "train_forecast = pd.read_csv(\n",
    "    \"Train/Baselines/Baseline_forecast_train.csv\",\n",
    "    dtype = {\"Prediction\": float}\n",
    ").assign(test=True).rename(columns = {\"Prediction\": \"Forecast\", \"Id\": \"id\"})[['id', 'Forecast']]\n",
    "\n",
    "train = pd.merge(train_ground, train_observation, on='id', how='outer')\n",
    "train = pd.merge(train, train_forecast, on='id', how='outer')\n",
    "train[\"station\"] = train[\"id\"].str.split(\"_\").str[0].astype(int)\n",
    "train[\"day_index\"] = train[\"id\"].str.split(\"_\").str[1].astype(int)\n",
    "\n",
    "#Test\n",
    "#Observation\n",
    "test_observation = pd.read_csv(\n",
    "    \"Test/Baselines/Baseline_observation_test.csv\",\n",
    "    dtype = {\"Prediction\": float}\n",
    ").rename(columns = {\"Prediction\": \"Observation\", \"Id\": \"id\"})[['id', 'Observation']]\n",
    "\n",
    "#Forecast\n",
    "test_forecast = pd.read_csv(\n",
    "    \"Test/Baselines/Baseline_forecast_test.csv\",\n",
    "    dtype = {\"Prediction\": float}\n",
    ").rename(columns = {\"Prediction\": \"Forecast\", \"Id\": \"id\"})[['id', 'Forecast']]\n",
    "\n",
    "test = pd.merge(test_observation, test_forecast, on='id', how='outer')\n",
    "test[\"station\"] = test[\"id\"].str.split(\"_\").str[0].astype(int)\n",
    "test[\"day_index\"] = test[\"id\"].str.split(\"_\").str[1].astype(int)\n",
    "test['y'] = np.nan"
   ]
  },
  {
   "cell_type": "code",
   "execution_count": 6,
   "metadata": {},
   "outputs": [
    {
     "data": {
      "text/html": [
       "<div>\n",
       "<style scoped>\n",
       "    .dataframe tbody tr th:only-of-type {\n",
       "        vertical-align: middle;\n",
       "    }\n",
       "\n",
       "    .dataframe tbody tr th {\n",
       "        vertical-align: top;\n",
       "    }\n",
       "\n",
       "    .dataframe thead th {\n",
       "        text-align: right;\n",
       "    }\n",
       "</style>\n",
       "<table border=\"1\" class=\"dataframe\">\n",
       "  <thead>\n",
       "    <tr style=\"text-align: right;\">\n",
       "      <th></th>\n",
       "      <th>station</th>\n",
       "      <th>test</th>\n",
       "      <th>day</th>\n",
       "      <th>day_index</th>\n",
       "      <th>month</th>\n",
       "      <th>y</th>\n",
       "      <th>Observation</th>\n",
       "      <th>Forecast</th>\n",
       "    </tr>\n",
       "  </thead>\n",
       "  <tbody>\n",
       "    <tr>\n",
       "      <th>0</th>\n",
       "      <td>14047002</td>\n",
       "      <td>False</td>\n",
       "      <td>0</td>\n",
       "      <td>0</td>\n",
       "      <td>1</td>\n",
       "      <td>NaN</td>\n",
       "      <td>NaN</td>\n",
       "      <td>8.410274</td>\n",
       "    </tr>\n",
       "    <tr>\n",
       "      <th>1</th>\n",
       "      <td>14047002</td>\n",
       "      <td>False</td>\n",
       "      <td>1</td>\n",
       "      <td>1</td>\n",
       "      <td>1</td>\n",
       "      <td>NaN</td>\n",
       "      <td>NaN</td>\n",
       "      <td>12.642678</td>\n",
       "    </tr>\n",
       "    <tr>\n",
       "      <th>2</th>\n",
       "      <td>14047002</td>\n",
       "      <td>False</td>\n",
       "      <td>2</td>\n",
       "      <td>2</td>\n",
       "      <td>1</td>\n",
       "      <td>NaN</td>\n",
       "      <td>NaN</td>\n",
       "      <td>5.331558</td>\n",
       "    </tr>\n",
       "    <tr>\n",
       "      <th>3</th>\n",
       "      <td>14047002</td>\n",
       "      <td>False</td>\n",
       "      <td>3</td>\n",
       "      <td>3</td>\n",
       "      <td>1</td>\n",
       "      <td>NaN</td>\n",
       "      <td>NaN</td>\n",
       "      <td>3.967951</td>\n",
       "    </tr>\n",
       "    <tr>\n",
       "      <th>4</th>\n",
       "      <td>14047002</td>\n",
       "      <td>False</td>\n",
       "      <td>4</td>\n",
       "      <td>4</td>\n",
       "      <td>1</td>\n",
       "      <td>NaN</td>\n",
       "      <td>NaN</td>\n",
       "      <td>3.360032</td>\n",
       "    </tr>\n",
       "  </tbody>\n",
       "</table>\n",
       "</div>"
      ],
      "text/plain": [
       "    station   test  day  day_index  month   y  Observation   Forecast\n",
       "0  14047002  False    0          0      1 NaN          NaN   8.410274\n",
       "1  14047002  False    1          1      1 NaN          NaN  12.642678\n",
       "2  14047002  False    2          2      1 NaN          NaN   5.331558\n",
       "3  14047002  False    3          3      1 NaN          NaN   3.967951\n",
       "4  14047002  False    4          4      1 NaN          NaN   3.360032"
      ]
     },
     "execution_count": 6,
     "metadata": {},
     "output_type": "execute_result"
    }
   ],
   "source": [
    "predictions = pd.merge(\n",
    "    df_full_index_day,\n",
    "    pd.concat([train.assign(test=False), test.assign(test=True)], axis = \"rows\"),\n",
    "    on = ['station', 'test', 'day_index'],\n",
    "    how = \"left\",\n",
    ")\n",
    "predictions = predictions.drop(\"id\", axis=1).sort_values(['station', 'test', 'day']).reset_index(drop=True)\n",
    "predictions.to_csv(\"Dataset/predictions.csv\", index=False)\n",
    "predictions.head()"
   ]
  },
  {
   "cell_type": "markdown",
   "metadata": {},
   "source": [
    "### Load X Features Values"
   ]
  },
  {
   "cell_type": "code",
   "execution_count": 7,
   "metadata": {},
   "outputs": [
    {
     "data": {
      "text/html": [
       "<div>\n",
       "<style scoped>\n",
       "    .dataframe tbody tr th:only-of-type {\n",
       "        vertical-align: middle;\n",
       "    }\n",
       "\n",
       "    .dataframe tbody tr th {\n",
       "        vertical-align: top;\n",
       "    }\n",
       "\n",
       "    .dataframe thead th {\n",
       "        text-align: right;\n",
       "    }\n",
       "</style>\n",
       "<table border=\"1\" class=\"dataframe\">\n",
       "  <thead>\n",
       "    <tr style=\"text-align: right;\">\n",
       "      <th></th>\n",
       "      <th>dd</th>\n",
       "      <th>hu</th>\n",
       "      <th>td</th>\n",
       "      <th>t</th>\n",
       "      <th>ff</th>\n",
       "      <th>precip</th>\n",
       "      <th>test</th>\n",
       "      <th>station</th>\n",
       "      <th>day_index</th>\n",
       "      <th>hour</th>\n",
       "    </tr>\n",
       "  </thead>\n",
       "  <tbody>\n",
       "    <tr>\n",
       "      <th>0</th>\n",
       "      <td>NaN</td>\n",
       "      <td>NaN</td>\n",
       "      <td>NaN</td>\n",
       "      <td>278.35</td>\n",
       "      <td>NaN</td>\n",
       "      <td>NaN</td>\n",
       "      <td>True</td>\n",
       "      <td>14047002</td>\n",
       "      <td>277</td>\n",
       "      <td>4</td>\n",
       "    </tr>\n",
       "    <tr>\n",
       "      <th>1</th>\n",
       "      <td>NaN</td>\n",
       "      <td>NaN</td>\n",
       "      <td>NaN</td>\n",
       "      <td>278.40</td>\n",
       "      <td>NaN</td>\n",
       "      <td>0.0</td>\n",
       "      <td>True</td>\n",
       "      <td>14047002</td>\n",
       "      <td>277</td>\n",
       "      <td>5</td>\n",
       "    </tr>\n",
       "    <tr>\n",
       "      <th>2</th>\n",
       "      <td>NaN</td>\n",
       "      <td>NaN</td>\n",
       "      <td>NaN</td>\n",
       "      <td>279.01</td>\n",
       "      <td>NaN</td>\n",
       "      <td>0.0</td>\n",
       "      <td>True</td>\n",
       "      <td>14047002</td>\n",
       "      <td>277</td>\n",
       "      <td>6</td>\n",
       "    </tr>\n",
       "    <tr>\n",
       "      <th>3</th>\n",
       "      <td>NaN</td>\n",
       "      <td>NaN</td>\n",
       "      <td>NaN</td>\n",
       "      <td>279.66</td>\n",
       "      <td>NaN</td>\n",
       "      <td>0.0</td>\n",
       "      <td>True</td>\n",
       "      <td>14047002</td>\n",
       "      <td>277</td>\n",
       "      <td>7</td>\n",
       "    </tr>\n",
       "    <tr>\n",
       "      <th>4</th>\n",
       "      <td>NaN</td>\n",
       "      <td>NaN</td>\n",
       "      <td>NaN</td>\n",
       "      <td>279.99</td>\n",
       "      <td>NaN</td>\n",
       "      <td>0.0</td>\n",
       "      <td>True</td>\n",
       "      <td>14047002</td>\n",
       "      <td>277</td>\n",
       "      <td>8</td>\n",
       "    </tr>\n",
       "  </tbody>\n",
       "</table>\n",
       "</div>"
      ],
      "text/plain": [
       "   dd  hu  td       t  ff  precip  test   station  day_index  hour\n",
       "0 NaN NaN NaN  278.35 NaN     NaN  True  14047002        277     4\n",
       "1 NaN NaN NaN  278.40 NaN     0.0  True  14047002        277     5\n",
       "2 NaN NaN NaN  279.01 NaN     0.0  True  14047002        277     6\n",
       "3 NaN NaN NaN  279.66 NaN     0.0  True  14047002        277     7\n",
       "4 NaN NaN NaN  279.99 NaN     0.0  True  14047002        277     8"
      ]
     },
     "execution_count": 7,
     "metadata": {},
     "output_type": "execute_result"
    }
   ],
   "source": [
    "features_mesured = ['ff', 't', 'td', 'hu', 'dd', 'precip']\n",
    "\n",
    "#Train\n",
    "train_features = pd.read_csv(\n",
    "    \"Train/X_station_train.csv\", \n",
    "    parse_dates=['date'], \n",
    "    infer_datetime_format=True,\n",
    "    dtype = {\"number_sta\": int},\n",
    ").rename(\n",
    "    columns = {\"number_sta\": \"station\", \"Id\": \"id\"}\n",
    ").assign(test=False)\n",
    "\n",
    "train_features[\"day_index\"] = train_features[\"id\"].str.split(\"_\").str[1].astype(int)\n",
    "train_features[\"hour\"] = train_features[\"id\"].str.split(\"_\").str[2].astype(int)\n",
    "train_features.drop([\"date\", \"id\"], axis=1, inplace=True)\n",
    "\n",
    "#Test\n",
    "test_features = pd.read_csv(\n",
    "    \"Test/X_station_test.csv\",\n",
    ").rename(\n",
    "    columns = {\"Id\": \"id\"}\n",
    ").assign(test=True)\n",
    "\n",
    "test_features[\"station\"] = test_features[\"id\"].str.split(\"_\").str[0].astype(int)\n",
    "test_features[\"day_index\"] = test_features[\"id\"].str.split(\"_\").str[1].astype(int)\n",
    "test_features[\"hour\"] = test_features[\"id\"].str.split(\"_\").str[2].astype(int)\n",
    "\n",
    "test_features.drop([\"id\", \"month\"], axis=1, inplace=True)\n",
    "test_features.head()"
   ]
  },
  {
   "cell_type": "code",
   "execution_count": 8,
   "metadata": {},
   "outputs": [
    {
     "data": {
      "text/html": [
       "<div>\n",
       "<style scoped>\n",
       "    .dataframe tbody tr th:only-of-type {\n",
       "        vertical-align: middle;\n",
       "    }\n",
       "\n",
       "    .dataframe tbody tr th {\n",
       "        vertical-align: top;\n",
       "    }\n",
       "\n",
       "    .dataframe thead th {\n",
       "        text-align: right;\n",
       "    }\n",
       "</style>\n",
       "<table border=\"1\" class=\"dataframe\">\n",
       "  <thead>\n",
       "    <tr style=\"text-align: right;\">\n",
       "      <th></th>\n",
       "      <th>station</th>\n",
       "      <th>test</th>\n",
       "      <th>day</th>\n",
       "      <th>hour</th>\n",
       "      <th>day_index</th>\n",
       "      <th>month</th>\n",
       "      <th>ff</th>\n",
       "      <th>t</th>\n",
       "      <th>td</th>\n",
       "      <th>hu</th>\n",
       "      <th>dd</th>\n",
       "      <th>precip</th>\n",
       "    </tr>\n",
       "  </thead>\n",
       "  <tbody>\n",
       "    <tr>\n",
       "      <th>0</th>\n",
       "      <td>14047002</td>\n",
       "      <td>False</td>\n",
       "      <td>0</td>\n",
       "      <td>0</td>\n",
       "      <td>0</td>\n",
       "      <td>1</td>\n",
       "      <td>NaN</td>\n",
       "      <td>NaN</td>\n",
       "      <td>NaN</td>\n",
       "      <td>NaN</td>\n",
       "      <td>NaN</td>\n",
       "      <td>NaN</td>\n",
       "    </tr>\n",
       "    <tr>\n",
       "      <th>1</th>\n",
       "      <td>14047002</td>\n",
       "      <td>False</td>\n",
       "      <td>0</td>\n",
       "      <td>1</td>\n",
       "      <td>0</td>\n",
       "      <td>1</td>\n",
       "      <td>NaN</td>\n",
       "      <td>NaN</td>\n",
       "      <td>NaN</td>\n",
       "      <td>NaN</td>\n",
       "      <td>NaN</td>\n",
       "      <td>NaN</td>\n",
       "    </tr>\n",
       "    <tr>\n",
       "      <th>2</th>\n",
       "      <td>14047002</td>\n",
       "      <td>False</td>\n",
       "      <td>0</td>\n",
       "      <td>2</td>\n",
       "      <td>0</td>\n",
       "      <td>1</td>\n",
       "      <td>NaN</td>\n",
       "      <td>NaN</td>\n",
       "      <td>NaN</td>\n",
       "      <td>NaN</td>\n",
       "      <td>NaN</td>\n",
       "      <td>NaN</td>\n",
       "    </tr>\n",
       "    <tr>\n",
       "      <th>3</th>\n",
       "      <td>14047002</td>\n",
       "      <td>False</td>\n",
       "      <td>0</td>\n",
       "      <td>3</td>\n",
       "      <td>0</td>\n",
       "      <td>1</td>\n",
       "      <td>NaN</td>\n",
       "      <td>NaN</td>\n",
       "      <td>NaN</td>\n",
       "      <td>NaN</td>\n",
       "      <td>NaN</td>\n",
       "      <td>NaN</td>\n",
       "    </tr>\n",
       "    <tr>\n",
       "      <th>4</th>\n",
       "      <td>14047002</td>\n",
       "      <td>False</td>\n",
       "      <td>0</td>\n",
       "      <td>4</td>\n",
       "      <td>0</td>\n",
       "      <td>1</td>\n",
       "      <td>NaN</td>\n",
       "      <td>NaN</td>\n",
       "      <td>NaN</td>\n",
       "      <td>NaN</td>\n",
       "      <td>NaN</td>\n",
       "      <td>NaN</td>\n",
       "    </tr>\n",
       "  </tbody>\n",
       "</table>\n",
       "</div>"
      ],
      "text/plain": [
       "    station   test  day  hour  day_index  month  ff   t  td  hu  dd  precip\n",
       "0  14047002  False    0     0          0      1 NaN NaN NaN NaN NaN     NaN\n",
       "1  14047002  False    0     1          0      1 NaN NaN NaN NaN NaN     NaN\n",
       "2  14047002  False    0     2          0      1 NaN NaN NaN NaN NaN     NaN\n",
       "3  14047002  False    0     3          0      1 NaN NaN NaN NaN NaN     NaN\n",
       "4  14047002  False    0     4          0      1 NaN NaN NaN NaN NaN     NaN"
      ]
     },
     "execution_count": 8,
     "metadata": {},
     "output_type": "execute_result"
    }
   ],
   "source": [
    "#Final features\n",
    "features = pd.merge(\n",
    "    df_full_index,\n",
    "    pd.concat([train_features, test_features], axis = \"rows\"),\n",
    "    on=['station', 'test', 'day_index', 'hour'],\n",
    "    how='left')\n",
    "\n",
    "features = features.sort_values(['station', 'test', 'day', 'hour']).reset_index(drop=True)\n",
    "features.to_csv(\"Dataset/features.csv\", index=False)\n",
    "features.head()"
   ]
  },
  {
   "cell_type": "markdown",
   "metadata": {},
   "source": [
    "### Temporal Interpolation"
   ]
  },
  {
   "cell_type": "markdown",
   "metadata": {},
   "source": [
    "Features"
   ]
  },
  {
   "cell_type": "code",
   "execution_count": 9,
   "metadata": {},
   "outputs": [
    {
     "data": {
      "text/html": [
       "<div>\n",
       "<style scoped>\n",
       "    .dataframe tbody tr th:only-of-type {\n",
       "        vertical-align: middle;\n",
       "    }\n",
       "\n",
       "    .dataframe tbody tr th {\n",
       "        vertical-align: top;\n",
       "    }\n",
       "\n",
       "    .dataframe thead th {\n",
       "        text-align: right;\n",
       "    }\n",
       "</style>\n",
       "<table border=\"1\" class=\"dataframe\">\n",
       "  <thead>\n",
       "    <tr style=\"text-align: right;\">\n",
       "      <th></th>\n",
       "      <th>station</th>\n",
       "      <th>test</th>\n",
       "      <th>day</th>\n",
       "      <th>hour</th>\n",
       "      <th>day_index</th>\n",
       "      <th>month</th>\n",
       "      <th>ff</th>\n",
       "      <th>t</th>\n",
       "      <th>td</th>\n",
       "      <th>hu</th>\n",
       "      <th>dd</th>\n",
       "      <th>precip</th>\n",
       "    </tr>\n",
       "  </thead>\n",
       "  <tbody>\n",
       "    <tr>\n",
       "      <th>0</th>\n",
       "      <td>14047002</td>\n",
       "      <td>False</td>\n",
       "      <td>0</td>\n",
       "      <td>0</td>\n",
       "      <td>0</td>\n",
       "      <td>1</td>\n",
       "      <td>NaN</td>\n",
       "      <td>NaN</td>\n",
       "      <td>NaN</td>\n",
       "      <td>NaN</td>\n",
       "      <td>NaN</td>\n",
       "      <td>NaN</td>\n",
       "    </tr>\n",
       "    <tr>\n",
       "      <th>1</th>\n",
       "      <td>14047002</td>\n",
       "      <td>False</td>\n",
       "      <td>0</td>\n",
       "      <td>1</td>\n",
       "      <td>0</td>\n",
       "      <td>1</td>\n",
       "      <td>NaN</td>\n",
       "      <td>NaN</td>\n",
       "      <td>NaN</td>\n",
       "      <td>NaN</td>\n",
       "      <td>NaN</td>\n",
       "      <td>NaN</td>\n",
       "    </tr>\n",
       "    <tr>\n",
       "      <th>2</th>\n",
       "      <td>14047002</td>\n",
       "      <td>False</td>\n",
       "      <td>0</td>\n",
       "      <td>2</td>\n",
       "      <td>0</td>\n",
       "      <td>1</td>\n",
       "      <td>NaN</td>\n",
       "      <td>NaN</td>\n",
       "      <td>NaN</td>\n",
       "      <td>NaN</td>\n",
       "      <td>NaN</td>\n",
       "      <td>NaN</td>\n",
       "    </tr>\n",
       "    <tr>\n",
       "      <th>3</th>\n",
       "      <td>14047002</td>\n",
       "      <td>False</td>\n",
       "      <td>0</td>\n",
       "      <td>3</td>\n",
       "      <td>0</td>\n",
       "      <td>1</td>\n",
       "      <td>NaN</td>\n",
       "      <td>NaN</td>\n",
       "      <td>NaN</td>\n",
       "      <td>NaN</td>\n",
       "      <td>NaN</td>\n",
       "      <td>NaN</td>\n",
       "    </tr>\n",
       "    <tr>\n",
       "      <th>4</th>\n",
       "      <td>14047002</td>\n",
       "      <td>False</td>\n",
       "      <td>0</td>\n",
       "      <td>4</td>\n",
       "      <td>0</td>\n",
       "      <td>1</td>\n",
       "      <td>NaN</td>\n",
       "      <td>NaN</td>\n",
       "      <td>NaN</td>\n",
       "      <td>NaN</td>\n",
       "      <td>NaN</td>\n",
       "      <td>NaN</td>\n",
       "    </tr>\n",
       "  </tbody>\n",
       "</table>\n",
       "</div>"
      ],
      "text/plain": [
       "    station   test  day  hour  day_index  month  ff   t  td  hu  dd  precip\n",
       "0  14047002  False    0     0          0      1 NaN NaN NaN NaN NaN     NaN\n",
       "1  14047002  False    0     1          0      1 NaN NaN NaN NaN NaN     NaN\n",
       "2  14047002  False    0     2          0      1 NaN NaN NaN NaN NaN     NaN\n",
       "3  14047002  False    0     3          0      1 NaN NaN NaN NaN NaN     NaN\n",
       "4  14047002  False    0     4          0      1 NaN NaN NaN NaN NaN     NaN"
      ]
     },
     "execution_count": 9,
     "metadata": {},
     "output_type": "execute_result"
    }
   ],
   "source": [
    "def time_interpolate(x, features):\n",
    "    for feature in features:\n",
    "        if x[feature].isna().mean() < 0.80:\n",
    "            x[feature] = x[feature].interpolate(limit=24) #24\n",
    "    return x\n",
    "\n",
    "features_time_interpolate_train = features[~features.test].groupby(['station']).apply(time_interpolate, features_mesured)\n",
    "\n",
    "# Pas d'interpolation temporelle pour les test car les jours ne sont pas ordonés\n",
    "features_time_interpolate_test = features[features.test] #.groupby(['station']).apply(time_interpolate, features_mesured)\n",
    "\n",
    "features_time_interpolate = pd.concat([features_time_interpolate_train, features_time_interpolate_test])\n",
    "\n",
    "features_time_interpolate[['station', 'test', 'day', 'hour', 'day_index', 'month'] + features_mesured].to_csv('Dataset/features_time_interpolate.csv', index=False)\n",
    "\n",
    "features_time_interpolate.head()"
   ]
  },
  {
   "cell_type": "code",
   "execution_count": 38,
   "metadata": {},
   "outputs": [
    {
     "data": {
      "text/plain": [
       "<AxesSubplot:xlabel='test,day,hour'>"
      ]
     },
     "execution_count": 38,
     "metadata": {},
     "output_type": "execute_result"
    },
    {
     "data": {
      "image/png": "[encoded data removed]",
      "text/plain": [
       "<Figure size 432x288 with 1 Axes>"
      ]
     },
     "metadata": {
      "needs_background": "light"
     },
     "output_type": "display_data"
    }
   ],
   "source": [
    "features.groupby(['test', 'day', 'hour']).t.agg(lambda x: (~x.isna()).sum()).plot(ylim=(0,340))\n",
    "features_time_interpolate.groupby(['test', 'day', 'hour']).t.agg(lambda x: (~x.isna()).sum()).plot(ylim=(0,340))"
   ]
  },
  {
   "cell_type": "code",
   "execution_count": 39,
   "metadata": {},
   "outputs": [
    {
     "data": {
      "text/plain": [
       "test   day  hour\n",
       "False  135  4       25\n",
       "            5       26\n",
       "            6       56\n",
       "            7       62\n",
       "       139  9       19\n",
       "            10      21\n",
       "            11      21\n",
       "            12      50\n",
       "       144  6       69\n",
       "            10      15\n",
       "            11      17\n",
       "            12      34\n",
       "Name: t, dtype: int64"
      ]
     },
     "execution_count": 39,
     "metadata": {},
     "output_type": "execute_result"
    }
   ],
   "source": [
    "data = features.groupby(['test', 'day', 'hour']).t.agg(lambda x: (~x.isna()).sum())\n",
    "data[data<100]"
   ]
  },
  {
   "cell_type": "markdown",
   "metadata": {},
   "source": [
    "Predictions"
   ]
  },
  {
   "cell_type": "code",
   "execution_count": 10,
   "metadata": {},
   "outputs": [
    {
     "name": "stdout",
     "output_type": "stream",
     "text": [
      "Y NA (train) : 31.67% -> 31.1%.\n",
      "Observation NA : 30.47% -> 30.05%.\n",
      "Forecast NA : 5.31% -> 4.03%.\n"
     ]
    },
    {
     "data": {
      "text/html": [
       "<div>\n",
       "<style scoped>\n",
       "    .dataframe tbody tr th:only-of-type {\n",
       "        vertical-align: middle;\n",
       "    }\n",
       "\n",
       "    .dataframe tbody tr th {\n",
       "        vertical-align: top;\n",
       "    }\n",
       "\n",
       "    .dataframe thead th {\n",
       "        text-align: right;\n",
       "    }\n",
       "</style>\n",
       "<table border=\"1\" class=\"dataframe\">\n",
       "  <thead>\n",
       "    <tr style=\"text-align: right;\">\n",
       "      <th></th>\n",
       "      <th>station</th>\n",
       "      <th>test</th>\n",
       "      <th>day</th>\n",
       "      <th>day_index</th>\n",
       "      <th>month</th>\n",
       "      <th>y</th>\n",
       "      <th>Observation</th>\n",
       "      <th>Forecast</th>\n",
       "    </tr>\n",
       "  </thead>\n",
       "  <tbody>\n",
       "    <tr>\n",
       "      <th>0</th>\n",
       "      <td>14047002</td>\n",
       "      <td>False</td>\n",
       "      <td>0</td>\n",
       "      <td>0</td>\n",
       "      <td>1</td>\n",
       "      <td>NaN</td>\n",
       "      <td>NaN</td>\n",
       "      <td>8.410274</td>\n",
       "    </tr>\n",
       "    <tr>\n",
       "      <th>1</th>\n",
       "      <td>14047002</td>\n",
       "      <td>False</td>\n",
       "      <td>1</td>\n",
       "      <td>1</td>\n",
       "      <td>1</td>\n",
       "      <td>NaN</td>\n",
       "      <td>NaN</td>\n",
       "      <td>12.642678</td>\n",
       "    </tr>\n",
       "    <tr>\n",
       "      <th>2</th>\n",
       "      <td>14047002</td>\n",
       "      <td>False</td>\n",
       "      <td>2</td>\n",
       "      <td>2</td>\n",
       "      <td>1</td>\n",
       "      <td>NaN</td>\n",
       "      <td>NaN</td>\n",
       "      <td>5.331558</td>\n",
       "    </tr>\n",
       "    <tr>\n",
       "      <th>3</th>\n",
       "      <td>14047002</td>\n",
       "      <td>False</td>\n",
       "      <td>3</td>\n",
       "      <td>3</td>\n",
       "      <td>1</td>\n",
       "      <td>NaN</td>\n",
       "      <td>NaN</td>\n",
       "      <td>3.967951</td>\n",
       "    </tr>\n",
       "    <tr>\n",
       "      <th>4</th>\n",
       "      <td>14047002</td>\n",
       "      <td>False</td>\n",
       "      <td>4</td>\n",
       "      <td>4</td>\n",
       "      <td>1</td>\n",
       "      <td>NaN</td>\n",
       "      <td>NaN</td>\n",
       "      <td>3.360032</td>\n",
       "    </tr>\n",
       "  </tbody>\n",
       "</table>\n",
       "</div>"
      ],
      "text/plain": [
       "    station   test  day  day_index  month   y  Observation   Forecast\n",
       "0  14047002  False    0          0      1 NaN          NaN   8.410274\n",
       "1  14047002  False    1          1      1 NaN          NaN  12.642678\n",
       "2  14047002  False    2          2      1 NaN          NaN   5.331558\n",
       "3  14047002  False    3          3      1 NaN          NaN   3.967951\n",
       "4  14047002  False    4          4      1 NaN          NaN   3.360032"
      ]
     },
     "execution_count": 10,
     "metadata": {},
     "output_type": "execute_result"
    }
   ],
   "source": [
    "list_y_var = ['y', 'Observation', 'Forecast']\n",
    "\n",
    "def time_interpolate(x, features):\n",
    "    for feature in features:\n",
    "        if x[feature].isna().mean() < 0.80: #0.80\n",
    "            x[feature] = x[feature].interpolate(limit=5)\n",
    "    return x\n",
    "\n",
    "predictions_time_interpolate_train = predictions[~predictions.test].groupby(['station']).apply(time_interpolate, list_y_var)\n",
    "\n",
    "# Pas d'interpolation temporelle pour les test car les jours ne sont pas ordonés\n",
    "predictions_time_interpolate_test = predictions[predictions.test] #.groupby(['station']).apply(time_interpolate, list_y_var)\n",
    "\n",
    "predictions_time_interpolate = pd.concat([predictions_time_interpolate_train, predictions_time_interpolate_test])\n",
    "\n",
    "predictions_time_interpolate[['station', 'test', 'day', 'day_index', 'month'] + list_y_var].to_csv('Dataset/predictions_time_interpolate.csv', index=False)\n",
    "\n",
    "def y_na(x):\n",
    "    return np.round(x.isna().mean()*100, 2)\n",
    "\n",
    "print(f\"Y NA (train) : {y_na(predictions[~predictions.test].y)}% -> {y_na(predictions_time_interpolate[~predictions_time_interpolate.test].y)}%.\")\n",
    "print(f\"Observation NA : {y_na(predictions.Observation)}% -> {y_na(predictions_time_interpolate.Observation)}%.\")\n",
    "print(f\"Forecast NA : {y_na(predictions.Forecast)}% -> {y_na(predictions_time_interpolate.Forecast)}%.\")\n",
    "predictions_time_interpolate.head()"
   ]
  },
  {
   "cell_type": "code",
   "execution_count": 41,
   "metadata": {},
   "outputs": [
    {
     "data": {
      "image/png": "[encoded data removed]",
      "text/plain": [
       "<Figure size 1152x72 with 1 Axes>"
      ]
     },
     "metadata": {
      "needs_background": "light"
     },
     "output_type": "display_data"
    },
    {
     "data": {
      "image/png": "[encoded data removed]",
      "text/plain": [
       "<Figure size 1152x72 with 1 Axes>"
      ]
     },
     "metadata": {
      "needs_background": "light"
     },
     "output_type": "display_data"
    },
    {
     "data": {
      "image/png": "[encoded data removed]",
      "text/plain": [
       "<Figure size 1152x72 with 1 Axes>"
      ]
     },
     "metadata": {
      "needs_background": "light"
     },
     "output_type": "display_data"
    },
    {
     "data": {
      "image/png": "[encoded data removed]",
      "text/plain": [
       "<Figure size 1152x72 with 1 Axes>"
      ]
     },
     "metadata": {
      "needs_background": "light"
     },
     "output_type": "display_data"
    },
    {
     "data": {
      "image/png": "[encoded data removed]",
      "text/plain": [
       "<Figure size 1152x72 with 1 Axes>"
      ]
     },
     "metadata": {
      "needs_background": "light"
     },
     "output_type": "display_data"
    }
   ],
   "source": [
    "for i, (index, df_iter) in enumerate(predictions_time_interpolate[~predictions_time_interpolate.test].groupby('station')):\n",
    "    df_iter[['y']].plot(subplots=True, fontsize=12, figsize=(16, 1))\n",
    "    if i>3:\n",
    "        break"
   ]
  },
  {
   "cell_type": "code",
   "execution_count": 42,
   "metadata": {},
   "outputs": [
    {
     "data": {
      "text/plain": [
       "<AxesSubplot:xlabel='test,day'>"
      ]
     },
     "execution_count": 42,
     "metadata": {},
     "output_type": "execute_result"
    },
    {
     "data": {
      "image/png": "[encoded data removed]",
      "text/plain": [
       "<Figure size 432x288 with 1 Axes>"
      ]
     },
     "metadata": {
      "needs_background": "light"
     },
     "output_type": "display_data"
    }
   ],
   "source": [
    "predictions.groupby(['test', 'day']).y.agg(lambda x: (~x.isna()).sum()).plot(ylim=(0,340))\n",
    "predictions_time_interpolate.groupby(['test', 'day']).y.agg(lambda x: (~x.isna()).sum()).plot(ylim=(0,340))"
   ]
  },
  {
   "cell_type": "markdown",
   "metadata": {},
   "source": [
    "### Spatial Interpolation"
   ]
  },
  {
   "cell_type": "markdown",
   "metadata": {},
   "source": [
    "Need a minimum of points for each interpolation (4 points). So time interpoolation is necessary."
   ]
  },
  {
   "cell_type": "code",
   "execution_count": 36,
   "metadata": {},
   "outputs": [
    {
     "name": "stdout",
     "output_type": "stream",
     "text": [
      "Feature ff finished.\n",
      "Feature t finished.\n",
      "Feature td finished.\n",
      "Feature hu finished.\n",
      "Feature dd finished.\n",
      "Feature precip finished.\n"
     ]
    },
    {
     "data": {
      "text/html": [
       "<div>\n",
       "<style scoped>\n",
       "    .dataframe tbody tr th:only-of-type {\n",
       "        vertical-align: middle;\n",
       "    }\n",
       "\n",
       "    .dataframe tbody tr th {\n",
       "        vertical-align: top;\n",
       "    }\n",
       "\n",
       "    .dataframe thead th {\n",
       "        text-align: right;\n",
       "    }\n",
       "</style>\n",
       "<table border=\"1\" class=\"dataframe\">\n",
       "  <thead>\n",
       "    <tr style=\"text-align: right;\">\n",
       "      <th></th>\n",
       "      <th>station</th>\n",
       "      <th>test</th>\n",
       "      <th>day</th>\n",
       "      <th>hour</th>\n",
       "      <th>day_index</th>\n",
       "      <th>month</th>\n",
       "      <th>ff</th>\n",
       "      <th>dist_ff</th>\n",
       "      <th>t</th>\n",
       "      <th>dist_t</th>\n",
       "      <th>td</th>\n",
       "      <th>dist_td</th>\n",
       "      <th>hu</th>\n",
       "      <th>dist_hu</th>\n",
       "      <th>dd</th>\n",
       "      <th>dist_dd</th>\n",
       "      <th>precip</th>\n",
       "      <th>dist_precip</th>\n",
       "    </tr>\n",
       "  </thead>\n",
       "  <tbody>\n",
       "    <tr>\n",
       "      <th>0</th>\n",
       "      <td>14047002</td>\n",
       "      <td>False</td>\n",
       "      <td>0</td>\n",
       "      <td>0</td>\n",
       "      <td>0</td>\n",
       "      <td>1</td>\n",
       "      <td>4.056472</td>\n",
       "      <td>9351.532478</td>\n",
       "      <td>279.406394</td>\n",
       "      <td>10785.923995</td>\n",
       "      <td>279.452594</td>\n",
       "      <td>10785.923995</td>\n",
       "      <td>101.051266</td>\n",
       "      <td>10785.923995</td>\n",
       "      <td>208.985256</td>\n",
       "      <td>9351.532478</td>\n",
       "      <td>-0.000035</td>\n",
       "      <td>10785.923995</td>\n",
       "    </tr>\n",
       "    <tr>\n",
       "      <th>1</th>\n",
       "      <td>14047002</td>\n",
       "      <td>False</td>\n",
       "      <td>0</td>\n",
       "      <td>1</td>\n",
       "      <td>0</td>\n",
       "      <td>1</td>\n",
       "      <td>4.171511</td>\n",
       "      <td>9351.532478</td>\n",
       "      <td>276.540162</td>\n",
       "      <td>10785.923995</td>\n",
       "      <td>276.594094</td>\n",
       "      <td>10785.923995</td>\n",
       "      <td>100.875933</td>\n",
       "      <td>10785.923995</td>\n",
       "      <td>219.652121</td>\n",
       "      <td>9351.532478</td>\n",
       "      <td>0.000010</td>\n",
       "      <td>10785.923995</td>\n",
       "    </tr>\n",
       "    <tr>\n",
       "      <th>2</th>\n",
       "      <td>14047002</td>\n",
       "      <td>False</td>\n",
       "      <td>0</td>\n",
       "      <td>2</td>\n",
       "      <td>0</td>\n",
       "      <td>1</td>\n",
       "      <td>3.813644</td>\n",
       "      <td>9351.532478</td>\n",
       "      <td>274.045721</td>\n",
       "      <td>10785.923995</td>\n",
       "      <td>274.260788</td>\n",
       "      <td>10785.923995</td>\n",
       "      <td>101.680669</td>\n",
       "      <td>10785.923995</td>\n",
       "      <td>210.558382</td>\n",
       "      <td>9351.532478</td>\n",
       "      <td>0.008242</td>\n",
       "      <td>10785.923995</td>\n",
       "    </tr>\n",
       "    <tr>\n",
       "      <th>3</th>\n",
       "      <td>14047002</td>\n",
       "      <td>False</td>\n",
       "      <td>0</td>\n",
       "      <td>3</td>\n",
       "      <td>0</td>\n",
       "      <td>1</td>\n",
       "      <td>3.631034</td>\n",
       "      <td>9351.532478</td>\n",
       "      <td>272.483210</td>\n",
       "      <td>10785.923995</td>\n",
       "      <td>272.618118</td>\n",
       "      <td>10785.923995</td>\n",
       "      <td>100.645315</td>\n",
       "      <td>10785.923995</td>\n",
       "      <td>199.090037</td>\n",
       "      <td>9351.532478</td>\n",
       "      <td>0.029730</td>\n",
       "      <td>10785.923995</td>\n",
       "    </tr>\n",
       "    <tr>\n",
       "      <th>4</th>\n",
       "      <td>14047002</td>\n",
       "      <td>False</td>\n",
       "      <td>0</td>\n",
       "      <td>4</td>\n",
       "      <td>0</td>\n",
       "      <td>1</td>\n",
       "      <td>2.231741</td>\n",
       "      <td>9351.532478</td>\n",
       "      <td>272.934190</td>\n",
       "      <td>10785.923995</td>\n",
       "      <td>272.829550</td>\n",
       "      <td>10785.923995</td>\n",
       "      <td>99.381360</td>\n",
       "      <td>10785.923995</td>\n",
       "      <td>179.928121</td>\n",
       "      <td>9351.532478</td>\n",
       "      <td>0.000002</td>\n",
       "      <td>10785.923995</td>\n",
       "    </tr>\n",
       "  </tbody>\n",
       "</table>\n",
       "</div>"
      ],
      "text/plain": [
       "    station   test  day  hour  day_index  month        ff      dist_ff  \\\n",
       "0  14047002  False    0     0          0      1  4.056472  9351.532478   \n",
       "1  14047002  False    0     1          0      1  4.171511  9351.532478   \n",
       "2  14047002  False    0     2          0      1  3.813644  9351.532478   \n",
       "3  14047002  False    0     3          0      1  3.631034  9351.532478   \n",
       "4  14047002  False    0     4          0      1  2.231741  9351.532478   \n",
       "\n",
       "            t        dist_t          td       dist_td          hu  \\\n",
       "0  279.406394  10785.923995  279.452594  10785.923995  101.051266   \n",
       "1  276.540162  10785.923995  276.594094  10785.923995  100.875933   \n",
       "2  274.045721  10785.923995  274.260788  10785.923995  101.680669   \n",
       "3  272.483210  10785.923995  272.618118  10785.923995  100.645315   \n",
       "4  272.934190  10785.923995  272.829550  10785.923995   99.381360   \n",
       "\n",
       "        dist_hu          dd      dist_dd    precip   dist_precip  \n",
       "0  10785.923995  208.985256  9351.532478 -0.000035  10785.923995  \n",
       "1  10785.923995  219.652121  9351.532478  0.000010  10785.923995  \n",
       "2  10785.923995  210.558382  9351.532478  0.008242  10785.923995  \n",
       "3  10785.923995  199.090037  9351.532478  0.029730  10785.923995  \n",
       "4  10785.923995  179.928121  9351.532478  0.000002  10785.923995  "
      ]
     },
     "execution_count": 36,
     "metadata": {},
     "output_type": "execute_result"
    }
   ],
   "source": [
    "df_features_coord = pd.merge(features_time_interpolate, stations, on='station')\n",
    "df_features_coord.drop(['longitude', 'latitude', 'height'], axis=1, inplace=True)\n",
    "\n",
    "df_features_interpolate = df_full_index.copy()\n",
    "for feature in features_mesured:\n",
    "    reference_values = df_features_coord[~df_features_coord[feature].isna()]\n",
    "\n",
    "    def agg_interpolate(key, df_points, feature):\n",
    "        from scipy.interpolate import griddata\n",
    "        from scipy.spatial.distance import cdist\n",
    "        # A function that realize the interpolation of the model and with the staion coordinate\n",
    "        index, group = key\n",
    "        df_out = df_points[['station', 'coord_x', 'coord_y']].copy()\n",
    "        df_out[feature] = griddata((group.coord_x, group.coord_y), group[feature], (df_out.coord_x, df_out.coord_y), method='cubic')\n",
    "\n",
    "        # Nearest Neighboor in case of null value\n",
    "        df_out.loc[df_out[feature].isna(), feature] = griddata((group.coord_x, group.coord_y), group[feature], (df_out[df_out[feature].isna()].coord_x, df_out[df_out[feature].isna()].coord_y), method='nearest')\n",
    "\n",
    "        # Minimum distance\n",
    "        df_out[f'dist_{feature}'] = cdist(df_out[['coord_x', 'coord_y']], group[~group[feature].isna()][['coord_x', 'coord_y']]).min(axis=1)\n",
    "        return df_out.assign(test=index[0], day_index=index[1], hour=index[2]).drop(['coord_x', 'coord_y'], axis=1)\n",
    "\n",
    "    with multiprocess.Pool(processes=12) as p:\n",
    "        df_buffer=pd.concat(p.map(partial(agg_interpolate, df_points=stations, feature=feature), reference_values.groupby(['test', 'day_index', 'hour'])))\n",
    "\n",
    "    #df_buffer=pd.concat([agg_interpolate(key, stations, feature) for key in reference_values.groupby(['test', 'day_index', 'hour'])])\n",
    "    df_features_interpolate = pd.merge(df_features_interpolate, df_buffer, on=['station', 'test', 'day_index', 'hour'], how='outer')\n",
    "\n",
    "    print(f'Feature {feature} finished.')\n",
    "\n",
    "df_features_interpolate.head()"
   ]
  },
  {
   "cell_type": "code",
   "execution_count": 53,
   "metadata": {},
   "outputs": [
    {
     "data": {
      "text/plain": [
       "9039.86466722811"
      ]
     },
     "execution_count": 53,
     "metadata": {},
     "output_type": "execute_result"
    }
   ],
   "source": [
    "df_features_interpolate.dist_ff.mean()"
   ]
  },
  {
   "cell_type": "code",
   "execution_count": 51,
   "metadata": {},
   "outputs": [
    {
     "data": {
      "text/plain": [
       "9796.010378943078"
      ]
     },
     "execution_count": 51,
     "metadata": {},
     "output_type": "execute_result"
    }
   ],
   "source": [
    "df_features_interpolate.dist_ff.std()"
   ]
  },
  {
   "cell_type": "code",
   "execution_count": 68,
   "metadata": {},
   "outputs": [
    {
     "name": "stdout",
     "output_type": "stream",
     "text": [
      "Y NA (train) : 53.22% -> 44.81%.\n",
      "Y NA (train) : 26.51% -> 17.11%.\n",
      "Y NA (train) : 47.56% -> 39.04%.\n",
      "Y NA (train) : 47.51% -> 38.99%.\n",
      "Y NA (train) : 53.25% -> 44.84%.\n",
      "Y NA (train) : 27.74% -> 17.78%.\n"
     ]
    },
    {
     "data": {
      "text/html": [
       "<div>\n",
       "<style scoped>\n",
       "    .dataframe tbody tr th:only-of-type {\n",
       "        vertical-align: middle;\n",
       "    }\n",
       "\n",
       "    .dataframe tbody tr th {\n",
       "        vertical-align: top;\n",
       "    }\n",
       "\n",
       "    .dataframe thead th {\n",
       "        text-align: right;\n",
       "    }\n",
       "</style>\n",
       "<table border=\"1\" class=\"dataframe\">\n",
       "  <thead>\n",
       "    <tr style=\"text-align: right;\">\n",
       "      <th></th>\n",
       "      <th>station</th>\n",
       "      <th>test</th>\n",
       "      <th>day</th>\n",
       "      <th>hour</th>\n",
       "      <th>day_index</th>\n",
       "      <th>month</th>\n",
       "      <th>ff</th>\n",
       "      <th>t</th>\n",
       "      <th>td</th>\n",
       "      <th>hu</th>\n",
       "      <th>dd</th>\n",
       "      <th>precip</th>\n",
       "    </tr>\n",
       "  </thead>\n",
       "  <tbody>\n",
       "    <tr>\n",
       "      <th>0</th>\n",
       "      <td>14047002</td>\n",
       "      <td>False</td>\n",
       "      <td>0</td>\n",
       "      <td>0</td>\n",
       "      <td>0</td>\n",
       "      <td>1</td>\n",
       "      <td>4.056472</td>\n",
       "      <td>NaN</td>\n",
       "      <td>NaN</td>\n",
       "      <td>NaN</td>\n",
       "      <td>208.985256</td>\n",
       "      <td>NaN</td>\n",
       "    </tr>\n",
       "    <tr>\n",
       "      <th>1</th>\n",
       "      <td>14047002</td>\n",
       "      <td>False</td>\n",
       "      <td>0</td>\n",
       "      <td>1</td>\n",
       "      <td>0</td>\n",
       "      <td>1</td>\n",
       "      <td>4.171511</td>\n",
       "      <td>NaN</td>\n",
       "      <td>NaN</td>\n",
       "      <td>NaN</td>\n",
       "      <td>219.652121</td>\n",
       "      <td>NaN</td>\n",
       "    </tr>\n",
       "    <tr>\n",
       "      <th>2</th>\n",
       "      <td>14047002</td>\n",
       "      <td>False</td>\n",
       "      <td>0</td>\n",
       "      <td>2</td>\n",
       "      <td>0</td>\n",
       "      <td>1</td>\n",
       "      <td>3.813644</td>\n",
       "      <td>NaN</td>\n",
       "      <td>NaN</td>\n",
       "      <td>NaN</td>\n",
       "      <td>210.558382</td>\n",
       "      <td>NaN</td>\n",
       "    </tr>\n",
       "    <tr>\n",
       "      <th>3</th>\n",
       "      <td>14047002</td>\n",
       "      <td>False</td>\n",
       "      <td>0</td>\n",
       "      <td>3</td>\n",
       "      <td>0</td>\n",
       "      <td>1</td>\n",
       "      <td>3.631034</td>\n",
       "      <td>NaN</td>\n",
       "      <td>NaN</td>\n",
       "      <td>NaN</td>\n",
       "      <td>199.090037</td>\n",
       "      <td>NaN</td>\n",
       "    </tr>\n",
       "    <tr>\n",
       "      <th>4</th>\n",
       "      <td>14047002</td>\n",
       "      <td>False</td>\n",
       "      <td>0</td>\n",
       "      <td>4</td>\n",
       "      <td>0</td>\n",
       "      <td>1</td>\n",
       "      <td>2.231741</td>\n",
       "      <td>NaN</td>\n",
       "      <td>NaN</td>\n",
       "      <td>NaN</td>\n",
       "      <td>179.928121</td>\n",
       "      <td>NaN</td>\n",
       "    </tr>\n",
       "  </tbody>\n",
       "</table>\n",
       "</div>"
      ],
      "text/plain": [
       "    station   test  day  hour  day_index  month        ff   t  td  hu  \\\n",
       "0  14047002  False    0     0          0      1  4.056472 NaN NaN NaN   \n",
       "1  14047002  False    0     1          0      1  4.171511 NaN NaN NaN   \n",
       "2  14047002  False    0     2          0      1  3.813644 NaN NaN NaN   \n",
       "3  14047002  False    0     3          0      1  3.631034 NaN NaN NaN   \n",
       "4  14047002  False    0     4          0      1  2.231741 NaN NaN NaN   \n",
       "\n",
       "           dd  precip  \n",
       "0  208.985256     NaN  \n",
       "1  219.652121     NaN  \n",
       "2  210.558382     NaN  \n",
       "3  199.090037     NaN  \n",
       "4  179.928121     NaN  "
      ]
     },
     "execution_count": 68,
     "metadata": {},
     "output_type": "execute_result"
    }
   ],
   "source": [
    "new_features = pd.merge(df_full_index[['station', 'test', 'day_index', 'hour']], df_features_interpolate, on=['station', 'test', 'day_index', 'hour'], how='left')\n",
    "new_features = new_features.sort_values(['station', 'test', 'day_index', 'hour']).reset_index(drop=True)\n",
    "\n",
    "features_time_interpolate.sort_values(['station', 'test', 'day_index', 'hour'], inplace=True)\n",
    "\n",
    "dist_max_interpolate = 10000\n",
    "for feature in features_mesured:\n",
    "    condition = (new_features[f'dist_{feature}'] < dist_max_interpolate) | new_features.test\n",
    "    new_features[feature] = np.where(condition, new_features[feature], features_time_interpolate[feature])\n",
    "    new_features[feature] = np.where(new_features[feature] < 0, 0, new_features[feature]) #For precip feature\n",
    "\n",
    "dist_columns = [f'dist_{feature}' for feature in features_mesured]\n",
    "new_features['nearest_station'] = new_features[dist_columns].min(axis=1)\n",
    "new_features.drop(dist_columns, axis=1, inplace=True)\n",
    "new_features = new_features[['station', 'test', 'day', 'hour', 'day_index', 'month'] + features_mesured]\n",
    "\n",
    "for feature in features_mesured:\n",
    "    print(f\"Y NA (train) : {y_na(features_time_interpolate[~features_time_interpolate.test][feature])}% -> {y_na(new_features[~new_features.test][feature])}%.\")\n",
    "\n",
    "new_features.to_csv('Dataset/features_interpolate_full.csv', index=False)\n",
    "new_features.head()"
   ]
  },
  {
   "cell_type": "markdown",
   "metadata": {},
   "source": [
    "Predictions"
   ]
  },
  {
   "cell_type": "code",
   "execution_count": 43,
   "metadata": {},
   "outputs": [
    {
     "name": "stdout",
     "output_type": "stream",
     "text": [
      "Feature y finished.\n",
      "Feature Observation finished.\n",
      "Feature Forecast finished.\n"
     ]
    },
    {
     "data": {
      "text/html": [
       "<div>\n",
       "<style scoped>\n",
       "    .dataframe tbody tr th:only-of-type {\n",
       "        vertical-align: middle;\n",
       "    }\n",
       "\n",
       "    .dataframe tbody tr th {\n",
       "        vertical-align: top;\n",
       "    }\n",
       "\n",
       "    .dataframe thead th {\n",
       "        text-align: right;\n",
       "    }\n",
       "</style>\n",
       "<table border=\"1\" class=\"dataframe\">\n",
       "  <thead>\n",
       "    <tr style=\"text-align: right;\">\n",
       "      <th></th>\n",
       "      <th>station</th>\n",
       "      <th>test</th>\n",
       "      <th>day</th>\n",
       "      <th>day_index</th>\n",
       "      <th>month</th>\n",
       "      <th>y</th>\n",
       "      <th>dist_y</th>\n",
       "      <th>Observation</th>\n",
       "      <th>dist_Observation</th>\n",
       "      <th>Forecast</th>\n",
       "      <th>dist_Forecast</th>\n",
       "    </tr>\n",
       "  </thead>\n",
       "  <tbody>\n",
       "    <tr>\n",
       "      <th>0</th>\n",
       "      <td>14047002</td>\n",
       "      <td>False</td>\n",
       "      <td>0</td>\n",
       "      <td>0</td>\n",
       "      <td>1</td>\n",
       "      <td>11.939015</td>\n",
       "      <td>10785.923995</td>\n",
       "      <td>0.059930</td>\n",
       "      <td>10785.923995</td>\n",
       "      <td>8.410274</td>\n",
       "      <td>0.0</td>\n",
       "    </tr>\n",
       "    <tr>\n",
       "      <th>1</th>\n",
       "      <td>14047002</td>\n",
       "      <td>False</td>\n",
       "      <td>1</td>\n",
       "      <td>1</td>\n",
       "      <td>1</td>\n",
       "      <td>13.510043</td>\n",
       "      <td>10785.923995</td>\n",
       "      <td>11.939015</td>\n",
       "      <td>10785.923995</td>\n",
       "      <td>12.642678</td>\n",
       "      <td>0.0</td>\n",
       "    </tr>\n",
       "    <tr>\n",
       "      <th>2</th>\n",
       "      <td>14047002</td>\n",
       "      <td>False</td>\n",
       "      <td>2</td>\n",
       "      <td>2</td>\n",
       "      <td>1</td>\n",
       "      <td>3.215059</td>\n",
       "      <td>10785.923995</td>\n",
       "      <td>13.510043</td>\n",
       "      <td>10785.923995</td>\n",
       "      <td>5.331558</td>\n",
       "      <td>0.0</td>\n",
       "    </tr>\n",
       "    <tr>\n",
       "      <th>3</th>\n",
       "      <td>14047002</td>\n",
       "      <td>False</td>\n",
       "      <td>3</td>\n",
       "      <td>3</td>\n",
       "      <td>1</td>\n",
       "      <td>2.427259</td>\n",
       "      <td>10785.923995</td>\n",
       "      <td>3.215059</td>\n",
       "      <td>10785.923995</td>\n",
       "      <td>3.967951</td>\n",
       "      <td>0.0</td>\n",
       "    </tr>\n",
       "    <tr>\n",
       "      <th>4</th>\n",
       "      <td>14047002</td>\n",
       "      <td>False</td>\n",
       "      <td>4</td>\n",
       "      <td>4</td>\n",
       "      <td>1</td>\n",
       "      <td>4.322350</td>\n",
       "      <td>10785.923995</td>\n",
       "      <td>2.427259</td>\n",
       "      <td>10785.923995</td>\n",
       "      <td>3.360032</td>\n",
       "      <td>0.0</td>\n",
       "    </tr>\n",
       "  </tbody>\n",
       "</table>\n",
       "</div>"
      ],
      "text/plain": [
       "    station   test  day  day_index  month          y        dist_y  \\\n",
       "0  14047002  False    0          0      1  11.939015  10785.923995   \n",
       "1  14047002  False    1          1      1  13.510043  10785.923995   \n",
       "2  14047002  False    2          2      1   3.215059  10785.923995   \n",
       "3  14047002  False    3          3      1   2.427259  10785.923995   \n",
       "4  14047002  False    4          4      1   4.322350  10785.923995   \n",
       "\n",
       "   Observation  dist_Observation   Forecast  dist_Forecast  \n",
       "0     0.059930      10785.923995   8.410274            0.0  \n",
       "1    11.939015      10785.923995  12.642678            0.0  \n",
       "2    13.510043      10785.923995   5.331558            0.0  \n",
       "3     3.215059      10785.923995   3.967951            0.0  \n",
       "4     2.427259      10785.923995   3.360032            0.0  "
      ]
     },
     "execution_count": 43,
     "metadata": {},
     "output_type": "execute_result"
    }
   ],
   "source": [
    "df_predictions_coord = pd.merge(predictions_time_interpolate, stations, on='station')\n",
    "df_predictions_coord.drop(['longitude', 'latitude', 'height'], axis=1, inplace=True)\n",
    "\n",
    "df_predictions_interpolate = df_full_index_day.copy()\n",
    "\n",
    "list_y_var = ['y', 'Observation', 'Forecast']\n",
    "\n",
    "for feature in list_y_var:\n",
    "    reference_values = df_predictions_coord[~df_predictions_coord[feature].isna()]\n",
    "\n",
    "    def agg_interpolate(key, df_points, feature):\n",
    "        from scipy.interpolate import griddata\n",
    "        from scipy.spatial.distance import cdist\n",
    "        # A function that realize the interpolation of the model and with the staion coordinate\n",
    "        index, group = key\n",
    "        df_out = df_points[['station', 'coord_x', 'coord_y']].copy()\n",
    "        df_out[feature] = griddata((group.coord_x, group.coord_y), group[feature], (df_out.coord_x, df_out.coord_y), method='cubic')\n",
    "\n",
    "        # Nearest Neighboor in case of null value\n",
    "        df_out.loc[df_out[feature].isna(), feature] = griddata((group.coord_x, group.coord_y), group[feature], (df_out[df_out[feature].isna()].coord_x, df_out[df_out[feature].isna()].coord_y), method='nearest')\n",
    "        \n",
    "        df_out[f'dist_{feature}'] = cdist(df_out[['coord_x', 'coord_y']], group[~group[feature].isna()][['coord_x', 'coord_y']]).min(axis=1)\n",
    "        return df_out.assign(test=index[0], day_index=index[1]).drop(['coord_x', 'coord_y'], axis=1)\n",
    "\n",
    "    df_buffer = pd.concat([agg_interpolate(key, stations, feature) for key in reference_values.groupby(['test', 'day_index'])])\n",
    "    df_predictions_interpolate = pd.merge(df_predictions_interpolate, df_buffer, on=['station', 'test', 'day_index'], how='outer')\n",
    "\n",
    "    print(f'Feature {feature} finished.')\n",
    "\n",
    "df_predictions_interpolate.head()"
   ]
  },
  {
   "cell_type": "code",
   "execution_count": 49,
   "metadata": {},
   "outputs": [
    {
     "data": {
      "text/plain": [
       "4142.385196833318"
      ]
     },
     "execution_count": 49,
     "metadata": {},
     "output_type": "execute_result"
    }
   ],
   "source": [
    "df_predictions_interpolate.dist_y.mean()"
   ]
  },
  {
   "cell_type": "code",
   "execution_count": 69,
   "metadata": {},
   "outputs": [
    {
     "name": "stdout",
     "output_type": "stream",
     "text": [
      "Y NA (train) : 31.1% -> 21.35%.\n",
      "Observation NA : 30.05% -> 14.31%.\n",
      "Forecast NA : 4.03% -> 4.03%.\n"
     ]
    },
    {
     "data": {
      "text/html": [
       "<div>\n",
       "<style scoped>\n",
       "    .dataframe tbody tr th:only-of-type {\n",
       "        vertical-align: middle;\n",
       "    }\n",
       "\n",
       "    .dataframe tbody tr th {\n",
       "        vertical-align: top;\n",
       "    }\n",
       "\n",
       "    .dataframe thead th {\n",
       "        text-align: right;\n",
       "    }\n",
       "</style>\n",
       "<table border=\"1\" class=\"dataframe\">\n",
       "  <thead>\n",
       "    <tr style=\"text-align: right;\">\n",
       "      <th></th>\n",
       "      <th>station</th>\n",
       "      <th>test</th>\n",
       "      <th>day</th>\n",
       "      <th>day_index</th>\n",
       "      <th>month</th>\n",
       "      <th>y</th>\n",
       "      <th>Observation</th>\n",
       "      <th>Forecast</th>\n",
       "    </tr>\n",
       "  </thead>\n",
       "  <tbody>\n",
       "    <tr>\n",
       "      <th>0</th>\n",
       "      <td>14047002</td>\n",
       "      <td>False</td>\n",
       "      <td>0</td>\n",
       "      <td>0</td>\n",
       "      <td>1</td>\n",
       "      <td>NaN</td>\n",
       "      <td>NaN</td>\n",
       "      <td>8.410274</td>\n",
       "    </tr>\n",
       "    <tr>\n",
       "      <th>1</th>\n",
       "      <td>14047002</td>\n",
       "      <td>False</td>\n",
       "      <td>1</td>\n",
       "      <td>1</td>\n",
       "      <td>1</td>\n",
       "      <td>NaN</td>\n",
       "      <td>NaN</td>\n",
       "      <td>12.642678</td>\n",
       "    </tr>\n",
       "    <tr>\n",
       "      <th>2</th>\n",
       "      <td>14047002</td>\n",
       "      <td>False</td>\n",
       "      <td>2</td>\n",
       "      <td>2</td>\n",
       "      <td>1</td>\n",
       "      <td>NaN</td>\n",
       "      <td>NaN</td>\n",
       "      <td>5.331558</td>\n",
       "    </tr>\n",
       "    <tr>\n",
       "      <th>3</th>\n",
       "      <td>14047002</td>\n",
       "      <td>False</td>\n",
       "      <td>3</td>\n",
       "      <td>3</td>\n",
       "      <td>1</td>\n",
       "      <td>NaN</td>\n",
       "      <td>NaN</td>\n",
       "      <td>3.967951</td>\n",
       "    </tr>\n",
       "    <tr>\n",
       "      <th>4</th>\n",
       "      <td>14047002</td>\n",
       "      <td>False</td>\n",
       "      <td>4</td>\n",
       "      <td>4</td>\n",
       "      <td>1</td>\n",
       "      <td>NaN</td>\n",
       "      <td>NaN</td>\n",
       "      <td>3.360032</td>\n",
       "    </tr>\n",
       "  </tbody>\n",
       "</table>\n",
       "</div>"
      ],
      "text/plain": [
       "    station   test  day  day_index  month   y  Observation   Forecast\n",
       "0  14047002  False    0          0      1 NaN          NaN   8.410274\n",
       "1  14047002  False    1          1      1 NaN          NaN  12.642678\n",
       "2  14047002  False    2          2      1 NaN          NaN   5.331558\n",
       "3  14047002  False    3          3      1 NaN          NaN   3.967951\n",
       "4  14047002  False    4          4      1 NaN          NaN   3.360032"
      ]
     },
     "execution_count": 69,
     "metadata": {},
     "output_type": "execute_result"
    }
   ],
   "source": [
    "new_predictions = pd.merge(df_full_index_day[['station', 'test', 'day_index']], df_predictions_interpolate, on=['station', 'test', 'day_index'], how='left')\n",
    "new_predictions = new_predictions.sort_values(['station', 'test', 'day_index']).reset_index(drop=True)\n",
    "\n",
    "predictions_time_interpolate.sort_values(['station', 'test', 'day_index'], inplace=True)\n",
    "#new_predictions = predictions_time_interpolate.sort_values(['station', 'test', 'day']).copy()\n",
    "\n",
    "dist_max_interpolate = 10000\n",
    "for feature in list_y_var:\n",
    "    condition = (new_predictions[f'dist_{feature}'] < dist_max_interpolate) | new_predictions.test\n",
    "    new_predictions[feature] = np.where(condition, new_predictions[feature], predictions_time_interpolate[feature])\n",
    "    new_predictions[feature] = np.where(new_predictions[feature] < 0, 0, new_predictions[feature]) #For precip feature\n",
    "\n",
    "dist_columns = [f'dist_{feature}' for feature in list_y_var]\n",
    "new_predictions['nearest_station'] = new_predictions[dist_columns].min(axis=1)\n",
    "new_predictions.drop(dist_columns, axis=1, inplace=True)\n",
    "new_predictions = new_predictions[['station', 'test', 'day', 'day_index', 'month'] + list_y_var]\n",
    "new_predictions.to_csv('Dataset/predictions_interpolate_full.csv', index=False)\n",
    "\n",
    "def y_na(x):\n",
    "    return np.round(x.isna().mean()*100, 2)\n",
    "\n",
    "print(f\"Y NA (train) : {y_na(predictions_time_interpolate[~predictions_time_interpolate.test].y)}% -> {y_na(new_predictions[~new_predictions.test].y)}%.\")\n",
    "print(f\"Observation NA : {y_na(predictions_time_interpolate.Observation)}% -> {y_na(new_predictions.Observation)}%.\")\n",
    "print(f\"Forecast NA : {y_na(predictions_time_interpolate.Forecast)}% -> {y_na(new_predictions.Forecast)}%.\")\n",
    "\n",
    "new_predictions.head()"
   ]
  },
  {
   "cell_type": "markdown",
   "metadata": {},
   "source": [
    "### Results Analysis"
   ]
  },
  {
   "cell_type": "code",
   "execution_count": 47,
   "metadata": {},
   "outputs": [
    {
     "data": {
      "text/plain": [
       "<AxesSubplot:xlabel='test,day,hour'>"
      ]
     },
     "execution_count": 47,
     "metadata": {},
     "output_type": "execute_result"
    },
    {
     "data": {
      "image/png": "[encoded data removed]",
      "text/plain": [
       "<Figure size 432x288 with 1 Axes>"
      ]
     },
     "metadata": {
      "needs_background": "light"
     },
     "output_type": "display_data"
    }
   ],
   "source": [
    "features.groupby(['test', 'day', 'hour']).ff.agg(lambda x: (~x.isna()).sum()).plot(ylim=(0,340))\n",
    "new_features.groupby(['test', 'day', 'hour']).ff.agg(lambda x: (~x.isna()).sum()).plot(ylim=(0,340))"
   ]
  },
  {
   "cell_type": "code",
   "execution_count": 48,
   "metadata": {},
   "outputs": [
    {
     "data": {
      "text/plain": [
       "<AxesSubplot:>"
      ]
     },
     "execution_count": 48,
     "metadata": {},
     "output_type": "execute_result"
    },
    {
     "data": {
      "image/png": "[encoded data removed]",
      "text/plain": [
       "<Figure size 1800x720 with 3 Axes>"
      ]
     },
     "metadata": {
      "needs_background": "light"
     },
     "output_type": "display_data"
    }
   ],
   "source": [
    "msno.bar(new_features)"
   ]
  },
  {
   "cell_type": "code",
   "execution_count": 49,
   "metadata": {},
   "outputs": [
    {
     "data": {
      "text/plain": [
       "<AxesSubplot:>"
      ]
     },
     "execution_count": 49,
     "metadata": {},
     "output_type": "execute_result"
    },
    {
     "data": {
      "image/png": "[encoded data removed]",
      "text/plain": [
       "<Figure size 1800x720 with 3 Axes>"
      ]
     },
     "metadata": {
      "needs_background": "light"
     },
     "output_type": "display_data"
    }
   ],
   "source": [
    "msno.bar(new_predictions)"
   ]
  },
  {
   "cell_type": "markdown",
   "metadata": {},
   "source": [
    "### Agregation"
   ]
  },
  {
   "cell_type": "code",
   "execution_count": 50,
   "metadata": {},
   "outputs": [],
   "source": [
    "def make_agg(x, on, by, how):\n",
    "    \"\"\"Function to make aggregates easilly.\n",
    "    \n",
    "    Parameters\n",
    "    ----------\n",
    "        x (pd.DataFrame): Features dataframe.\n",
    "        on (list): List of targets aggregates.\n",
    "        by (list): List of columns we will use to group data.\n",
    "        how (list): List of statistics.\n",
    "    \n",
    "    \"\"\"\n",
    "    columns = []\n",
    "    for col in on:\n",
    "        for stat in how:\n",
    "            columns.append(f\"{stat}_{col}\") #_by_{'_'.join(by)}\")\n",
    "    x = x.groupby(by)[on].agg(how)  \n",
    "    x.columns = columns\n",
    "    return x"
   ]
  },
  {
   "cell_type": "code",
   "execution_count": 51,
   "metadata": {},
   "outputs": [],
   "source": [
    "features_agg = make_agg(\n",
    "    x = new_features,\n",
    "    on = features_mesured, \n",
    "    by = [\"test\", \"station\", \"day\"],\n",
    "    how = [\"mean\"]\n",
    ").reset_index()\n",
    "\n",
    "df = pd.merge(\n",
    "    left = new_predictions,\n",
    "    right = features_agg,\n",
    "    on = [\"test\", \"station\", \"day\"],\n",
    "    how = \"left\",\n",
    ")\n",
    "\n",
    "df.sort_values(['station', 'test', 'day'], inplace=True)\n",
    "df.to_csv(\"Dataset/weather_full.csv\", index=False)"
   ]
  }
 ],
 "metadata": {
  "interpreter": {
   "hash": "a0844becf624f5b51054fd414835e9fe059074f2359c4ebe10f54f1c18d3b468"
  },
  "kernelspec": {
   "display_name": "Python 3.9.7 64-bit ('DataScience': conda)",
   "language": "python",
   "name": "python3"
  },
  "language_info": {
   "codemirror_mode": {
    "name": "ipython",
    "version": 3
   },
   "file_extension": ".py",
   "mimetype": "text/x-python",
   "name": "python",
   "nbconvert_exporter": "python",
   "pygments_lexer": "ipython3",
   "version": "3.9.7"
  },
  "orig_nbformat": 4
 },
 "nbformat": 4,
 "nbformat_minor": 2
}
